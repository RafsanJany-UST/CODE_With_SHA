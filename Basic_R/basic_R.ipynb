{
 "cells": [
  {
   "cell_type": "markdown",
   "id": "e180c830",
   "metadata": {},
   "source": [
    "# Making Environment in CONDA ENV\n",
    "\n",
    "Command: `conda create -n R_ON -c conda-forge r r-irkernel jupyter`"
   ]
  },
  {
   "cell_type": "code",
   "execution_count": null,
   "id": "48cb8d7a",
   "metadata": {
    "vscode": {
     "languageId": "r"
    }
   },
   "outputs": [
    {
     "name": "stdout",
     "output_type": "stream",
     "text": [
      "[1] \"Hello world\"\n"
     ]
    }
   ],
   "source": [
    "print(\"Hello world\")"
   ]
  },
  {
   "cell_type": "code",
   "execution_count": 1,
   "id": "f59b5520",
   "metadata": {
    "vscode": {
     "languageId": "r"
    }
   },
   "outputs": [
    {
     "name": "stdout",
     "output_type": "stream",
     "text": [
      "[1] 10.5\n",
      "[1] \"sha\"\n",
      "10.5 \n",
      "sha"
     ]
    }
   ],
   "source": [
    "x = 10.5\n",
    "\n",
    "y <- \"sha\"\n",
    "\n",
    "print(x)\n",
    "print(y)\n",
    "\n",
    "cat(x, \"\\n\")\n",
    "cat(y)"
   ]
  },
  {
   "cell_type": "code",
   "execution_count": 2,
   "id": "fccdf09a",
   "metadata": {
    "vscode": {
     "languageId": "r"
    }
   },
   "outputs": [],
   "source": [
    "# Take first number\n",
    "num1 = as.numeric(readline(prompt = \"Enter first number: \"))\n",
    "\n",
    "# Take second number\n",
    "num2 <- as.numeric(readline(prompt = \"Enter second number: \"))"
   ]
  },
  {
   "cell_type": "code",
   "execution_count": 4,
   "id": "d9fe219c",
   "metadata": {
    "vscode": {
     "languageId": "r"
    }
   },
   "outputs": [
    {
     "name": "stdout",
     "output_type": "stream",
     "text": [
      "[1] 55\n",
      "[1] 77\n"
     ]
    }
   ],
   "source": [
    "print(num1)\n",
    "print(num2)"
   ]
  },
  {
   "cell_type": "code",
   "execution_count": 6,
   "id": "8cc380f2",
   "metadata": {
    "vscode": {
     "languageId": "r"
    }
   },
   "outputs": [
    {
     "name": "stdout",
     "output_type": "stream",
     "text": [
      "Addition: 110 \n",
      "Subtraction: 90 \n",
      "Multiplication: 1000 \n",
      "Division: 10 \n"
     ]
    }
   ],
   "source": [
    "# Take first number\n",
    "num1 = as.numeric(readline(prompt = \"Enter first number: \"))\n",
    "\n",
    "# Take second number\n",
    "num2 <- as.numeric(readline(prompt = \"Enter second number: \"))\n",
    "\n",
    "\n",
    "\n",
    "sum = num1+num2\n",
    "\n",
    "\n",
    "# Addition\n",
    "cat(\"Addition:\", sum, \"\\n\")\n",
    "\n",
    "# Subtraction\n",
    "cat(\"Subtraction:\", num1 - num2, \"\\n\")\n",
    "\n",
    "# Multiplication\n",
    "cat(\"Multiplication:\", num1 * num2, \"\\n\")\n",
    "\n",
    "# Division\n",
    "cat(\"Division:\", num1 / num2, \"\\n\")\n"
   ]
  },
  {
   "cell_type": "code",
   "execution_count": null,
   "metadata": {
    "vscode": {
     "languageId": "r"
    }
   },
   "outputs": [],
   "source": []
  },
  {
   "cell_type": "code",
   "execution_count": null,
   "id": "d796be2e",
   "metadata": {
    "vscode": {
     "languageId": "r"
    }
   },
   "outputs": [],
   "source": []
  }
 ],
 "metadata": {
  "kernelspec": {
   "display_name": "R",
   "language": "R",
   "name": "ir"
  },
  "language_info": {
   "codemirror_mode": "r",
   "file_extension": ".r",
   "mimetype": "text/x-r-source",
   "name": "R",
   "pygments_lexer": "r",
   "version": "4.4.3"
  }
 },
 "nbformat": 4,
 "nbformat_minor": 5
}
