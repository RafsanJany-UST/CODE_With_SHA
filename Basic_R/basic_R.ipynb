{
 "cells": [
  {
   "cell_type": "markdown",
   "id": "e180c830",
   "metadata": {},
   "source": [
    "# Making Environment in CONDA ENV\n",
    "\n",
    "Command: `conda create -n R_ON -c conda-forge r r-irkernel jupyter`"
   ]
  },
  {
   "cell_type": "code",
   "execution_count": null,
   "id": "48cb8d7a",
   "metadata": {},
   "outputs": [],
   "source": []
  },
  {
   "cell_type": "code",
   "execution_count": null,
   "id": "f59b5520",
   "metadata": {},
   "outputs": [],
   "source": []
  },
  {
   "cell_type": "code",
   "execution_count": null,
   "id": "8cc380f2",
   "metadata": {},
   "outputs": [],
   "source": []
  },
  {
   "cell_type": "code",
   "execution_count": null,
   "metadata": {},
   "outputs": [],
   "source": []
  },
  {
   "cell_type": "code",
   "execution_count": null,
   "id": "d796be2e",
   "metadata": {},
   "outputs": [],
   "source": []
  }
 ],
 "metadata": {
  "language_info": {
   "name": "python"
  }
 },
 "nbformat": 4,
 "nbformat_minor": 5
}
