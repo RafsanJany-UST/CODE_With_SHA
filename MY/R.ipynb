{
 "cells": [
  {
   "cell_type": "code",
   "execution_count": 1,
   "id": "3ac7cd42",
   "metadata": {
    "vscode": {
     "languageId": "r"
    }
   },
   "outputs": [
    {
     "name": "stdout",
     "output_type": "stream",
     "text": [
      "[1] \"Hello World\"\n"
     ]
    }
   ],
   "source": [
    "print(\"Hello World\")"
   ]
  },
  {
   "cell_type": "code",
   "execution_count": 7,
   "id": "16fce7cc",
   "metadata": {
    "vscode": {
     "languageId": "r"
    }
   },
   "outputs": [
    {
     "name": "stdout",
     "output_type": "stream",
     "text": [
      "[1] 10.5\n"
     ]
    },
    {
     "name": "stdout",
     "output_type": "stream",
     "text": [
      "[1] 5\n",
      "[1] 1+2i\n"
     ]
    }
   ],
   "source": [
    "# Numeric\n",
    "x <- 10.5\n",
    "\n",
    "# Integer\n",
    "y <- 5L\n",
    "\n",
    "# Complex\n",
    "z <- 1+2i\n",
    "\n",
    "\n",
    "print(x)\n",
    "print(y)\n",
    "print(z)"
   ]
  },
  {
   "cell_type": "code",
   "execution_count": 8,
   "id": "e23418bb",
   "metadata": {
    "vscode": {
     "languageId": "r"
    }
   },
   "outputs": [
    {
     "name": "stdout",
     "output_type": "stream",
     "text": [
      "[1] 10.5\n",
      "[1] 5\n",
      "[1] 1+2i\n"
     ]
    }
   ],
   "source": [
    "# Numeric\n",
    "x = 10.5\n",
    "\n",
    "# Integer\n",
    "y = 5L\n",
    "\n",
    "# Complex\n",
    "z = 1+2i\n",
    "\n",
    "\n",
    "print(x)\n",
    "print(y)\n",
    "print(z)"
   ]
  },
  {
   "cell_type": "code",
   "execution_count": 10,
   "id": "47b184a6",
   "metadata": {
    "vscode": {
     "languageId": "r"
    }
   },
   "outputs": [
    {
     "name": "stdout",
     "output_type": "stream",
     "text": [
      "[1] \"John\"\n"
     ]
    }
   ],
   "source": [
    "name <- \"John\"\n",
    "\n",
    "print(name)"
   ]
  },
  {
   "cell_type": "code",
   "execution_count": 18,
   "id": "461a17d1",
   "metadata": {
    "vscode": {
     "languageId": "r"
    }
   },
   "outputs": [
    {
     "name": "stdout",
     "output_type": "stream",
     "text": [
      "[1] 1\n",
      "[1] 200\n",
      "[1] 30\n"
     ]
    }
   ],
   "source": [
    "num_list = list(1, 200, 30)\n",
    "\n",
    "\n",
    "print(num_list[[1]])\n",
    "print(num_list[[2]])\n",
    "print(num_list[[3]])"
   ]
  },
  {
   "cell_type": "code",
   "execution_count": 16,
   "id": "5e97fdc3",
   "metadata": {
    "vscode": {
     "languageId": "r"
    }
   },
   "outputs": [
    {
     "name": "stdout",
     "output_type": "stream",
     "text": [
      "[1] 1\n",
      "[1] \"text\"\n",
      "[1] 9.004\n"
     ]
    }
   ],
   "source": [
    "mix_list <- list(1, \"text\",9.004)\n",
    "\n",
    "\n",
    "print(mix_list[[1]])\n",
    "print(mix_list[[2]])\n",
    "print(mix_list[[3]])"
   ]
  },
  {
   "cell_type": "code",
   "execution_count": 20,
   "id": "260fc147",
   "metadata": {
    "vscode": {
     "languageId": "r"
    }
   },
   "outputs": [
    {
     "name": "stdout",
     "output_type": "stream",
     "text": [
      "Addition: 121 \n",
      "Subtraction: -11 \n",
      "Multiplication: 3630 \n",
      "Division: 0.8333333 \n"
     ]
    }
   ],
   "source": [
    "# Take first number\n",
    "num1 = as.numeric(readline(prompt = \"Enter first number: \"))\n",
    "\n",
    "# Take second number\n",
    "num2 <- as.numeric(readline(prompt = \"Enter second number: \"))\n",
    "\n",
    "# Addition\n",
    "cat(\"Addition:\", num1 + num2, \"\\n\")\n",
    "\n",
    "# Subtraction\n",
    "cat(\"Subtraction:\", num1 - num2, \"\\n\")\n",
    "\n",
    "# Multiplication\n",
    "cat(\"Multiplication:\", num1 * num2, \"\\n\")\n",
    "\n",
    "# Division\n",
    "cat(\"Division:\", num1 / num2, \"\\n\")\n"
   ]
  },
  {
   "cell_type": "code",
   "execution_count": null,
   "id": "628247ed",
   "metadata": {
    "vscode": {
     "languageId": "r"
    }
   },
   "outputs": [],
   "source": [
    "# Take radius input\n",
    "radius = as.numeric(readline(prompt = \"Enter the radius of the circle: \"))\n",
    "\n",
    "# Calculate area\n",
    "area_circle = pi * radius^2\n",
    "\n",
    "# Print result\n",
    "cat(\"Area of the circle:\", area_circle, \"\\n\")\n"
   ]
  },
  {
   "cell_type": "code",
   "execution_count": null,
   "id": "c07b9cc6",
   "metadata": {
    "vscode": {
     "languageId": "r"
    }
   },
   "outputs": [],
   "source": [
    "# Take Celsius input\n",
    "celsius <- as.numeric(readline(prompt = \"Enter temperature in Celsius: \"))\n",
    "\n",
    "# Convert to Fahrenheit\n",
    "fahrenheit <- (celsius * 9/5) + 32\n",
    "\n",
    "# Print result\n",
    "cat(\"Temperature in Fahrenheit:\", fahrenheit, \"\\n\")\n"
   ]
  },
  {
   "cell_type": "code",
   "execution_count": null,
   "id": "25081f58",
   "metadata": {
    "vscode": {
     "languageId": "r"
    }
   },
   "outputs": [],
   "source": [
    "# Take sides input\n",
    "a <- as.numeric(readline(prompt = \"Enter side a: \"))\n",
    "b <- as.numeric(readline(prompt = \"Enter side b: \"))\n",
    "c <- as.numeric(readline(prompt = \"Enter side c: \"))\n",
    "\n",
    "# Calculate semi-perimeter\n",
    "s <- (a + b + c) / 2\n",
    "\n",
    "# Calculate area using Heron's formula\n",
    "area_triangle <- sqrt(s * (s - a) * (s - b) * (s - c))\n",
    "\n",
    "# Print result\n",
    "cat(\"Area of the triangle:\", area_triangle, \"\\n\")\n"
   ]
  },
  {
   "cell_type": "code",
   "execution_count": null,
   "id": "e9459575",
   "metadata": {
    "vscode": {
     "languageId": "r"
    }
   },
   "outputs": [],
   "source": []
  },
  {
   "cell_type": "markdown",
   "id": "feda0b49",
   "metadata": {},
   "source": [
    "1+3+.....n = ?"
   ]
  },
  {
   "cell_type": "code",
   "execution_count": null,
   "id": "c2f9d74c",
   "metadata": {
    "vscode": {
     "languageId": "r"
    }
   },
   "outputs": [],
   "source": [
    "n <- as.numeric(readline(prompt = \"Enter the last odd number (n): \"))\n",
    "sum_odd <- 0\n",
    "\n",
    "# Use for loop from 1 to n, step 2\n",
    "for (i in seq(1, n, 2)) {\n",
    "  sum_odd <- sum_odd + i\n",
    "}\n",
    "\n",
    "cat(\"Sum of the series is:\", sum_odd, \"\\n\")\n"
   ]
  }
 ],
 "metadata": {
  "kernelspec": {
   "display_name": "R",
   "language": "R",
   "name": "ir"
  },
  "language_info": {
   "codemirror_mode": "r",
   "file_extension": ".r",
   "mimetype": "text/x-r-source",
   "name": "R",
   "pygments_lexer": "r",
   "version": "4.4.3"
  }
 },
 "nbformat": 4,
 "nbformat_minor": 5
}
