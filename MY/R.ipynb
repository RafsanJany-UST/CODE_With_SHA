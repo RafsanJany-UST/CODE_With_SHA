{
 "cells": [
  {
   "cell_type": "code",
   "execution_count": 1,
   "id": "3ac7cd42",
   "metadata": {
    "vscode": {
     "languageId": "r"
    }
   },
   "outputs": [
    {
     "name": "stdout",
     "output_type": "stream",
     "text": [
      "[1] \"Hello World\"\n"
     ]
    }
   ],
   "source": [
    "print(\"Hello World\")"
   ]
  },
  {
   "cell_type": "code",
   "execution_count": 7,
   "id": "16fce7cc",
   "metadata": {
    "vscode": {
     "languageId": "r"
    }
   },
   "outputs": [
    {
     "name": "stdout",
     "output_type": "stream",
     "text": [
      "[1] 10.5\n",
      "[1] 5e+06\n",
      "[1] 1+2i\n",
      "[1] \"hello hell\"\n",
      "10.5 \n"
     ]
    },
    {
     "name": "stdout",
     "output_type": "stream",
     "text": [
      "5e+06"
     ]
    }
   ],
   "source": [
    "# Numeric\n",
    "x <- 10.5\n",
    "\n",
    "# Integer\n",
    "y <- 5000000\n",
    "\n",
    "# Complex\n",
    "z <- 1+2i\n",
    "\n",
    "#string/object\n",
    "s <- \"hello hell\"\n",
    "\n",
    "print(x)\n",
    "print(y)\n",
    "print(z)\n",
    "print(s)\n",
    "\n",
    "\n",
    "cat(x, \"\\n\")\n",
    "cat(y)"
   ]
  },
  {
   "cell_type": "code",
   "execution_count": 8,
   "id": "e23418bb",
   "metadata": {
    "vscode": {
     "languageId": "r"
    }
   },
   "outputs": [
    {
     "name": "stdout",
     "output_type": "stream",
     "text": [
      "[1] 10.5\n",
      "[1] 5\n",
      "[1] 1+2i\n"
     ]
    }
   ],
   "source": [
    "# Numeric\n",
    "x = 10.5\n",
    "\n",
    "# Integer\n",
    "y = 5L\n",
    "\n",
    "# Complex\n",
    "z = 1+2i\n",
    "\n",
    "\n",
    "print(x)\n",
    "print(y)\n",
    "print(z)"
   ]
  },
  {
   "cell_type": "code",
   "execution_count": 10,
   "id": "47b184a6",
   "metadata": {
    "vscode": {
     "languageId": "r"
    }
   },
   "outputs": [
    {
     "name": "stdout",
     "output_type": "stream",
     "text": [
      "[1] \"John\"\n"
     ]
    }
   ],
   "source": [
    "name <- \"John\"\n",
    "\n",
    "print(name)"
   ]
  },
  {
   "cell_type": "code",
   "execution_count": 13,
   "id": "461a17d1",
   "metadata": {
    "vscode": {
     "languageId": "r"
    }
   },
   "outputs": [
    {
     "name": "stdout",
     "output_type": "stream",
     "text": [
      "[[1]]\n",
      "[1] 1\n",
      "\n",
      "[[1]]\n",
      "[1] 200\n",
      "\n",
      "[[1]]\n",
      "[1] 30\n",
      "\n",
      "[1] \"------------------\"\n",
      "[1] 1\n",
      "[1] 200\n",
      "[1] 30\n",
      "1 \n",
      "200 \n",
      "30 \n"
     ]
    }
   ],
   "source": [
    "num_list = list(1, 200, 30)\n",
    "\n",
    "\n",
    "print(num_list[1])\n",
    "print(num_list[2])\n",
    "print(num_list[3])\n",
    "\n",
    "print(\"------------------\")\n",
    "\n",
    "print(num_list[[1]])\n",
    "print(num_list[[2]])\n",
    "print(num_list[[3]])\n",
    "\n",
    "cat(num_list[[1]],\"\\n\")\n",
    "cat(num_list[[2]],\"\\n\")\n",
    "cat(num_list[[3]],\"\\n\")"
   ]
  },
  {
   "cell_type": "code",
   "execution_count": 16,
   "id": "5e97fdc3",
   "metadata": {
    "vscode": {
     "languageId": "r"
    }
   },
   "outputs": [
    {
     "name": "stdout",
     "output_type": "stream",
     "text": [
      "[1] 1\n",
      "[1] \"text\"\n",
      "[1] 9.004\n",
      "text"
     ]
    }
   ],
   "source": [
    "mix_list <- list(1, \"text\",9.004)\n",
    "\n",
    "\n",
    "print(mix_list[[1]])\n",
    "print(mix_list[[2]])\n",
    "print(mix_list[[3]])\n",
    "\n",
    "cat(mix_list[[2]])"
   ]
  },
  {
   "cell_type": "code",
   "execution_count": null,
   "id": "967df12a",
   "metadata": {
    "vscode": {
     "languageId": "r"
    }
   },
   "outputs": [],
   "source": [
    "r^2"
   ]
  },
  {
   "cell_type": "code",
   "execution_count": 2,
   "id": "260fc147",
   "metadata": {
    "vscode": {
     "languageId": "r"
    }
   },
   "outputs": [
    {
     "name": "stdout",
     "output_type": "stream",
     "text": [
      "Addition: 110 \n",
      "Subtraction: 90 \n",
      "Multiplication: 1000 \n",
      "Division: 10 \n"
     ]
    }
   ],
   "source": [
    "# Take first number\n",
    "num1 = as.numeric(readline(prompt = \"Enter first number: \"))\n",
    "\n",
    "# Take second number\n",
    "num2 <- as.numeric(readline(prompt = \"Enter second number: \"))\n",
    "\n",
    "sum = num1+num2\n",
    "sub = num1-num2\n",
    "mul = num1*num2\n",
    "div = num1/num2\n",
    "\n",
    "# Addition\n",
    "cat(\"Addition:\", sum, \"\\n\")\n",
    "\n",
    "# Subtraction\n",
    "cat(\"Subtraction:\", sub, \"\\n\")\n",
    "\n",
    "# Multiplication\n",
    "cat(\"Multiplication:\", mul, \"\\n\")\n",
    "\n",
    "# Division\n",
    "cat(\"Division:\", div, \"\\n\")\n"
   ]
  },
  {
   "cell_type": "code",
   "execution_count": 3,
   "id": "628247ed",
   "metadata": {
    "vscode": {
     "languageId": "r"
    }
   },
   "outputs": [
    {
     "name": "stdout",
     "output_type": "stream",
     "text": [
      "Area of the circle: 12.56637 \n"
     ]
    }
   ],
   "source": [
    "# Take radius input\n",
    "radius = as.numeric(readline(prompt = \"Enter the radius of the circle: \"))\n",
    "\n",
    "# Calculate area\n",
    "area_circle = pi * radius^2\n",
    "\n",
    "# Print result\n",
    "cat(\"Area of the circle:\", area_circle, \"\\n\")\n"
   ]
  },
  {
   "cell_type": "code",
   "execution_count": 4,
   "id": "c07b9cc6",
   "metadata": {
    "vscode": {
     "languageId": "r"
    }
   },
   "outputs": [
    {
     "name": "stdout",
     "output_type": "stream",
     "text": [
      "Temperature in Fahrenheit: 50 \n"
     ]
    }
   ],
   "source": [
    "# Take Celsius input\n",
    "celsius <- as.numeric(readline(prompt = \"Enter temperature in Celsius: \"))\n",
    "\n",
    "# Convert to Fahrenheit\n",
    "fahrenheit <- (celsius * 9/5) + 32\n",
    "\n",
    "# Print result\n",
    "cat(\"Temperature in Fahrenheit:\", fahrenheit, \"\\n\")\n"
   ]
  },
  {
   "cell_type": "code",
   "execution_count": 8,
   "id": "25081f58",
   "metadata": {
    "vscode": {
     "languageId": "r"
    }
   },
   "outputs": [
    {
     "name": "stdout",
     "output_type": "stream",
     "text": [
      "Area of the triangle: 6 \n"
     ]
    }
   ],
   "source": [
    "# Take sides input\n",
    "a <- as.numeric(readline(prompt = \"Enter side a: \"))\n",
    "b <- as.numeric(readline(prompt = \"Enter side b: \"))\n",
    "c <- as.numeric(readline(prompt = \"Enter side c: \"))\n",
    "\n",
    "# Calculate semi-perimeter\n",
    "s <- (a + b + c) / 2\n",
    "\n",
    "# Calculate area using Heron's formula\n",
    "area_triangle <- sqrt(s * (s - a) * (s - b) * (s - c))\n",
    "\n",
    "# Print result\n",
    "cat(\"Area of the triangle:\", area_triangle, \"\\n\")\n"
   ]
  },
  {
   "cell_type": "markdown",
   "id": "feda0b49",
   "metadata": {},
   "source": [
    "1+3+.....n = ?"
   ]
  },
  {
   "cell_type": "markdown",
   "id": "e5c6f5f7",
   "metadata": {},
   "source": [
    "python structure: for i in range(starting_point, ending_point+1, increament):\n",
    "\n",
    "R structure: for (i in seq(starting_point, ending_point, increament))\n",
    "{\n",
    "\n",
    "//statements\n",
    "\n",
    "}"
   ]
  },
  {
   "cell_type": "markdown",
   "id": "2b77ae2d",
   "metadata": {},
   "source": [
    "\n",
    "Task:\n",
    "1<sup>4</sup>+4<sup>4</sup>+7<sup>4</sup>+.....+n<sup>4</sup> <br>\n",
    "\n",
    "H<sub>2</sub>O"
   ]
  },
  {
   "cell_type": "code",
   "execution_count": 4,
   "id": "c2f9d74c",
   "metadata": {
    "vscode": {
     "languageId": "r"
    }
   },
   "outputs": [
    {
     "name": "stdout",
     "output_type": "stream",
     "text": [
      "Sum of the series is: 41219 \n"
     ]
    }
   ],
   "source": [
    "n = as.numeric(readline(prompt = \"Enter the last odd number (n): \"))\n",
    "\n",
    "\n",
    "sum_odd = 0\n",
    "\n",
    "\n",
    "\n",
    "# Use for loop from 1 to n, step 2\n",
    "\n",
    "\n",
    "\n",
    "for (i in seq(1, n, 3)) \n",
    "{\n",
    "  sum_odd = sum_odd + i^4\n",
    "}\n",
    "\n",
    "\n",
    "\n",
    "\n",
    "cat(\"Sum of the series is:\", sum_odd, \"\\n\")\n"
   ]
  },
  {
   "cell_type": "code",
   "execution_count": null,
   "id": "1b0adc80",
   "metadata": {
    "vscode": {
     "languageId": "r"
    }
   },
   "outputs": [],
   "source": []
  }
 ],
 "metadata": {
  "kernelspec": {
   "display_name": "R",
   "language": "R",
   "name": "ir"
  },
  "language_info": {
   "codemirror_mode": "r",
   "file_extension": ".r",
   "mimetype": "text/x-r-source",
   "name": "R",
   "pygments_lexer": "r",
   "version": "4.4.3"
  }
 },
 "nbformat": 4,
 "nbformat_minor": 5
}
