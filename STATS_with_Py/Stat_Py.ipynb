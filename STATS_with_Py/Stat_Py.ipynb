{
 "cells": [
  {
   "cell_type": "markdown",
   "id": "4d802147",
   "metadata": {},
   "source": [
    "# Installation"
   ]
  },
  {
   "cell_type": "code",
   "execution_count": 2,
   "id": "2fe53bd9",
   "metadata": {},
   "outputs": [],
   "source": [
    "#!pip install pandas"
   ]
  },
  {
   "cell_type": "markdown",
   "id": "85baf992",
   "metadata": {},
   "source": [
    "# reading CSV file"
   ]
  },
  {
   "cell_type": "code",
   "execution_count": 3,
   "id": "477a86c2",
   "metadata": {},
   "outputs": [
    {
     "data": {
      "text/html": [
       "<div>\n",
       "<style scoped>\n",
       "    .dataframe tbody tr th:only-of-type {\n",
       "        vertical-align: middle;\n",
       "    }\n",
       "\n",
       "    .dataframe tbody tr th {\n",
       "        vertical-align: top;\n",
       "    }\n",
       "\n",
       "    .dataframe thead th {\n",
       "        text-align: right;\n",
       "    }\n",
       "</style>\n",
       "<table border=\"1\" class=\"dataframe\">\n",
       "  <thead>\n",
       "    <tr style=\"text-align: right;\">\n",
       "      <th></th>\n",
       "      <th>Celsius</th>\n",
       "      <th>Fahrenheit</th>\n",
       "    </tr>\n",
       "  </thead>\n",
       "  <tbody>\n",
       "    <tr>\n",
       "      <th>0</th>\n",
       "      <td>-10</td>\n",
       "      <td>13.0</td>\n",
       "    </tr>\n",
       "    <tr>\n",
       "      <th>1</th>\n",
       "      <td>0</td>\n",
       "      <td>31.5</td>\n",
       "    </tr>\n",
       "    <tr>\n",
       "      <th>2</th>\n",
       "      <td>10</td>\n",
       "      <td>51.2</td>\n",
       "    </tr>\n",
       "    <tr>\n",
       "      <th>3</th>\n",
       "      <td>20</td>\n",
       "      <td>70.5</td>\n",
       "    </tr>\n",
       "    <tr>\n",
       "      <th>4</th>\n",
       "      <td>30</td>\n",
       "      <td>89.1</td>\n",
       "    </tr>\n",
       "    <tr>\n",
       "      <th>5</th>\n",
       "      <td>40</td>\n",
       "      <td>107.2</td>\n",
       "    </tr>\n",
       "  </tbody>\n",
       "</table>\n",
       "</div>"
      ],
      "text/plain": [
       "   Celsius  Fahrenheit\n",
       "0      -10        13.0\n",
       "1        0        31.5\n",
       "2       10        51.2\n",
       "3       20        70.5\n",
       "4       30        89.1\n",
       "5       40       107.2"
      ]
     },
     "execution_count": 3,
     "metadata": {},
     "output_type": "execute_result"
    }
   ],
   "source": [
    "import pandas as pd\n",
    "import numpy as np\n",
    "\n",
    "\n",
    "\n",
    "dataFrame = pd.read_csv(r\"C:\\Users\\RAZER\\Documents\\GitHub_2\\CODE_With_SHA\\STATS_with_Py\\celsius_fahrenheit_lab_data.csv\")\n",
    "\n",
    "\n",
    "dataFrame"
   ]
  },
  {
   "cell_type": "code",
   "execution_count": 4,
   "id": "041e71e9",
   "metadata": {},
   "outputs": [
    {
     "data": {
      "text/plain": [
       "0   -10\n",
       "1     0\n",
       "2    10\n",
       "3    20\n",
       "4    30\n",
       "5    40\n",
       "Name: Celsius, dtype: int64"
      ]
     },
     "execution_count": 4,
     "metadata": {},
     "output_type": "execute_result"
    }
   ],
   "source": [
    "dataFrame[\"Celsius\"]"
   ]
  },
  {
   "cell_type": "code",
   "execution_count": 5,
   "id": "733f8928",
   "metadata": {},
   "outputs": [
    {
     "data": {
      "text/plain": [
       "pandas.core.series.Series"
      ]
     },
     "execution_count": 5,
     "metadata": {},
     "output_type": "execute_result"
    }
   ],
   "source": [
    "type(dataFrame[\"Fahrenheit\"])"
   ]
  },
  {
   "cell_type": "code",
   "execution_count": 6,
   "id": "9571c259",
   "metadata": {},
   "outputs": [
    {
     "data": {
      "text/plain": [
       "array([-10,   0,  10,  20,  30,  40])"
      ]
     },
     "execution_count": 6,
     "metadata": {},
     "output_type": "execute_result"
    }
   ],
   "source": [
    "dataFrame[\"Celsius\"].values"
   ]
  },
  {
   "cell_type": "code",
   "execution_count": 7,
   "id": "b2d41c19",
   "metadata": {},
   "outputs": [
    {
     "data": {
      "text/plain": [
       "array([ 13. ,  31.5,  51.2,  70.5,  89.1, 107.2])"
      ]
     },
     "execution_count": 7,
     "metadata": {},
     "output_type": "execute_result"
    }
   ],
   "source": [
    "dataFrame[\"Fahrenheit\"].values"
   ]
  },
  {
   "cell_type": "code",
   "execution_count": 16,
   "id": "a61a20ac",
   "metadata": {},
   "outputs": [
    {
     "name": "stdout",
     "output_type": "stream",
     "text": [
      "the slope=  1.8945714285714286\n",
      "the intercept =  31.998095238095235\n"
     ]
    }
   ],
   "source": [
    "x = dataFrame[\"Celsius\"].values\n",
    "y = dataFrame[\"Fahrenheit\"].values\n",
    "\n",
    "\n",
    "\n",
    "n = len(x)\n",
    "\n",
    "sum_x = np.sum(x)\n",
    "\n",
    "sum_y = np.sum(y)\n",
    "\n",
    "sum_xy = np.sum(x*y)\n",
    "\n",
    "sum_x2 = np.sum(pow(x,2))\n",
    "\n",
    "\n",
    "m = (n* sum_xy - sum_x*sum_y) / (n*sum_x2 - pow(sum_x,2))\n",
    "\n",
    "c = (sum_y- m * sum_x)/n\n",
    "\n",
    "print(\"the slope= \",m)\n",
    "print(\"the intercept = \",c)\n"
   ]
  },
  {
   "cell_type": "code",
   "execution_count": null,
   "id": "0c28b9cc",
   "metadata": {},
   "outputs": [
    {
     "name": "stdout",
     "output_type": "stream",
     "text": [
      "107.78095238095237\n"
     ]
    }
   ],
   "source": [
    "cel = 40\n",
    "\n",
    "far = cel*m + c\n",
    "\n",
    "print(far)"
   ]
  },
  {
   "cell_type": "markdown",
   "id": "3b4316ff",
   "metadata": {},
   "source": [
    "____________________________________________"
   ]
  },
  {
   "cell_type": "markdown",
   "id": "43f49018",
   "metadata": {},
   "source": [
    "# With sklearn"
   ]
  },
  {
   "cell_type": "code",
   "execution_count": null,
   "id": "abcad1a5",
   "metadata": {},
   "outputs": [],
   "source": [
    "!pip install -U scikit-learn"
   ]
  },
  {
   "cell_type": "code",
   "execution_count": 27,
   "id": "12ef3450",
   "metadata": {},
   "outputs": [
    {
     "data": {
      "text/plain": [
       "array([-10,   0,  10,  20,  30,  40])"
      ]
     },
     "execution_count": 27,
     "metadata": {},
     "output_type": "execute_result"
    }
   ],
   "source": [
    "x"
   ]
  },
  {
   "cell_type": "code",
   "execution_count": 28,
   "id": "7f8911c2",
   "metadata": {},
   "outputs": [
    {
     "data": {
      "text/plain": [
       "array([[-10],\n",
       "       [  0],\n",
       "       [ 10],\n",
       "       [ 20],\n",
       "       [ 30],\n",
       "       [ 40]])"
      ]
     },
     "execution_count": 28,
     "metadata": {},
     "output_type": "execute_result"
    }
   ],
   "source": [
    "x.reshape(-1,1)"
   ]
  },
  {
   "cell_type": "code",
   "execution_count": null,
   "id": "8fed61f5",
   "metadata": {},
   "outputs": [
    {
     "name": "stdout",
     "output_type": "stream",
     "text": [
      "1.8945714285714284\n",
      "31.99809523809524\n"
     ]
    }
   ],
   "source": [
    "from sklearn.linear_model import LinearRegression\n",
    "import pandas as pd\n",
    "import numpy as np\n",
    "\n",
    "dataFrame = pd.read_csv(r\"C:\\Users\\RAZER\\Documents\\GitHub_2\\CODE_With_SHA\\STATS_with_Py\\celsius_fahrenheit_lab_data.csv\")\n",
    "\n",
    "\n",
    "x = dataFrame[\"Celsius\"].values\n",
    "y = dataFrame[\"Fahrenheit\"].values\n",
    "\n",
    "\n",
    "#reshaping\n",
    "x_reshaped = x.reshape(-1,1)\n",
    "\n",
    "\n",
    "#Model Declaration\n",
    "lin_model = LinearRegression()\n",
    "\n",
    "\n",
    "#Training\n",
    "lin_model.fit(x_reshaped,y)\n",
    "\n",
    "\n",
    "m_sk = lin_model.coef_[0]\n",
    "c_sk = lin_model.intercept_\n",
    "\n",
    "\n",
    "print(m_sk)\n",
    "print(c_sk)\n"
   ]
  },
  {
   "cell_type": "code",
   "execution_count": null,
   "id": "7e2d8420",
   "metadata": {},
   "outputs": [],
   "source": [
    "x_reshaped = x.reshape(-1,1)"
   ]
  },
  {
   "cell_type": "code",
   "execution_count": 2,
   "id": "b5b81f62",
   "metadata": {},
   "outputs": [
    {
     "name": "stdout",
     "output_type": "stream",
     "text": [
      "✅ Evaluation Results (Actual Age Prediction):\n",
      "MAE : 10.00\n",
      "RMSE: 11.93\n",
      "R²  : 0.27\n"
     ]
    }
   ],
   "source": [
    "import pandas as pd\n",
    "import numpy as np\n",
    "from sklearn.model_selection import train_test_split\n",
    "from sklearn.linear_model import LinearRegression\n",
    "from sklearn.preprocessing import LabelEncoder\n",
    "from sklearn.metrics import mean_absolute_error, mean_squared_error, r2_score\n",
    "\n",
    "# Step 1: Load dataset (update the path if needed)\n",
    "df = pd.read_csv(r\"C:\\Users\\RAZER\\Downloads\\archive (1)\\insurance.csv\")  # <-- place your downloaded CSV here\n",
    "\n",
    "# Step 2: Encode categorical columns\n",
    "for col in ['sex', 'smoker', 'region']:\n",
    "    le = LabelEncoder()\n",
    "    df[col] = le.fit_transform(df[col])\n",
    "\n",
    "# Step 3: Define X (features) and y (target: age)\n",
    "X = df.drop(columns=['age'])\n",
    "y = df['age']\n",
    "\n",
    "# Step 4: Split into train and test\n",
    "X_train, X_test, y_train, y_test = train_test_split(X, y, test_size=0.2, random_state=42)\n",
    "\n",
    "# Step 5: Fit linear regression\n",
    "model = LinearRegression()\n",
    "model.fit(X_train, y_train)\n",
    "y_pred = model.predict(X_test)\n",
    "\n",
    "# Step 6: Evaluation\n",
    "mae = mean_absolute_error(y_test, y_pred)\n",
    "rmse = np.sqrt(mean_squared_error(y_test, y_pred))\n",
    "r2 = r2_score(y_test, y_pred)\n",
    "\n",
    "print(\"✅ Evaluation Results (Actual Age Prediction):\")\n",
    "print(f\"MAE : {mae:.2f}\")\n",
    "print(f\"RMSE: {rmse:.2f}\")\n",
    "print(f\"R²  : {r2:.2f}\")\n"
   ]
  },
  {
   "cell_type": "code",
   "execution_count": null,
   "id": "2a9c17dd",
   "metadata": {},
   "outputs": [],
   "source": []
  },
  {
   "cell_type": "code",
   "execution_count": null,
   "id": "a8ca220d",
   "metadata": {},
   "outputs": [],
   "source": []
  }
 ],
 "metadata": {
  "kernelspec": {
   "display_name": "torch_on",
   "language": "python",
   "name": "python3"
  },
  "language_info": {
   "codemirror_mode": {
    "name": "ipython",
    "version": 3
   },
   "file_extension": ".py",
   "mimetype": "text/x-python",
   "name": "python",
   "nbconvert_exporter": "python",
   "pygments_lexer": "ipython3",
   "version": "3.9.20"
  }
 },
 "nbformat": 4,
 "nbformat_minor": 5
}
