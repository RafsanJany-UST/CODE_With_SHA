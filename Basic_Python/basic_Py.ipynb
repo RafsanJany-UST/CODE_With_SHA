{
 "cells": [
  {
   "cell_type": "code",
   "execution_count": null,
   "id": "42b54d5a",
   "metadata": {},
   "outputs": [],
   "source": []
  },
  {
   "cell_type": "markdown",
   "id": "4945c530",
   "metadata": {},
   "source": [
    "# Variables"
   ]
  },
  {
   "cell_type": "markdown",
   "id": "5235f405",
   "metadata": {},
   "source": [
    "## Integer\n",
    "10, 15, 7, 0, -4, 100"
   ]
  },
  {
   "cell_type": "code",
   "execution_count": null,
   "id": "9b850465",
   "metadata": {},
   "outputs": [
    {
     "name": "stdout",
     "output_type": "stream",
     "text": [
      "100 200\n",
      "-8 50000\n",
      "This is the sum of apple and banana varables: 300\n"
     ]
    }
   ],
   "source": [
    "apple = 100\n",
    "banana = 200\n",
    "a = -8\n",
    "b = 50000\n",
    "\n",
    "print(apple, banana)\n",
    "print(a,b)\n",
    "\n",
    "\n",
    "sum = apple+banana\n",
    "\n",
    "print('This is the sum of apple and banana varables:', sum) "
   ]
  },
  {
   "cell_type": "markdown",
   "id": "39792967",
   "metadata": {},
   "source": [
    "## Integer Deduction"
   ]
  },
  {
   "cell_type": "code",
   "execution_count": null,
   "id": "f4f4ac5e",
   "metadata": {},
   "outputs": [],
   "source": []
  },
  {
   "cell_type": "markdown",
   "id": "c4c872e3",
   "metadata": {},
   "source": [
    "## Float/Fractions\n",
    "1.2, 0.6, 6.999999, 3.1416"
   ]
  },
  {
   "cell_type": "code",
   "execution_count": 14,
   "id": "17b98301",
   "metadata": {},
   "outputs": [
    {
     "name": "stdout",
     "output_type": "stream",
     "text": [
      "143.115588\n"
     ]
    }
   ],
   "source": [
    "pie = 3.1416\n",
    "r = 45.555\n",
    "\n",
    "print(pie*r)"
   ]
  },
  {
   "cell_type": "markdown",
   "id": "6b9be4d7",
   "metadata": {},
   "source": [
    "# Circle Area Finiding Programm"
   ]
  },
  {
   "cell_type": "code",
   "execution_count": 19,
   "id": "20374853",
   "metadata": {},
   "outputs": [
    {
     "name": "stdout",
     "output_type": "stream",
     "text": [
      "3631.6896\n"
     ]
    }
   ],
   "source": [
    "r = int(input('Enter the value of radius: '))\n",
    "\n",
    "pie = 3.1416\n",
    "\n",
    "area = pie*pow(r,2)\n",
    "\n",
    "print(area)"
   ]
  },
  {
   "cell_type": "markdown",
   "id": "c0feeb3d",
   "metadata": {},
   "source": [
    "## Celcius to Fahrenheit"
   ]
  },
  {
   "cell_type": "code",
   "execution_count": null,
   "id": "45992036",
   "metadata": {},
   "outputs": [],
   "source": []
  },
  {
   "cell_type": "code",
   "execution_count": 26,
   "id": "c1d29009",
   "metadata": {},
   "outputs": [
    {
     "name": "stdout",
     "output_type": "stream",
     "text": [
      "34.5\n"
     ]
    }
   ],
   "source": [
    "print(float(input()))"
   ]
  },
  {
   "cell_type": "code",
   "execution_count": null,
   "id": "13ed55c3",
   "metadata": {},
   "outputs": [],
   "source": [
    "f = float(input())"
   ]
  },
  {
   "cell_type": "markdown",
   "id": "39f26fc6",
   "metadata": {},
   "source": [
    "## Finding the area of a Triangle"
   ]
  },
  {
   "cell_type": "markdown",
   "id": "c9382c13",
   "metadata": {},
   "source": [
    "side_a, side_b, side_c"
   ]
  },
  {
   "cell_type": "code",
   "execution_count": null,
   "id": "80b0bac6",
   "metadata": {},
   "outputs": [],
   "source": [
    "import math\n",
    "\n",
    "\n",
    "\n",
    "area = math.sqrt(s*(s-a)*(s-b)*(s-c))"
   ]
  },
  {
   "cell_type": "code",
   "execution_count": null,
   "id": "42785a4b",
   "metadata": {},
   "outputs": [],
   "source": []
  },
  {
   "cell_type": "code",
   "execution_count": null,
   "id": "f68c6114",
   "metadata": {},
   "outputs": [],
   "source": []
  },
  {
   "cell_type": "code",
   "execution_count": null,
   "id": "78daa2ee",
   "metadata": {},
   "outputs": [],
   "source": []
  },
  {
   "cell_type": "code",
   "execution_count": null,
   "id": "74c687d2",
   "metadata": {},
   "outputs": [],
   "source": []
  },
  {
   "cell_type": "markdown",
   "id": "30b8f7a0",
   "metadata": {},
   "source": [
    "# String Operation"
   ]
  },
  {
   "cell_type": "code",
   "execution_count": 7,
   "id": "ca70bb83",
   "metadata": {},
   "outputs": [
    {
     "name": "stdout",
     "output_type": "stream",
     "text": [
      "I have a cowand it is black\n"
     ]
    }
   ],
   "source": [
    "k = input()\n",
    "p = input()\n",
    "\n",
    "l = k+p\n",
    "\n",
    "print(l)"
   ]
  },
  {
   "cell_type": "markdown",
   "id": "4b8e1f83",
   "metadata": {},
   "source": [
    "I have a cow\n",
    "||||.......|\n",
    "0123.......11"
   ]
  },
  {
   "cell_type": "code",
   "execution_count": 11,
   "id": "07ac3209",
   "metadata": {},
   "outputs": [
    {
     "data": {
      "text/plain": [
       "'I'"
      ]
     },
     "execution_count": 11,
     "metadata": {},
     "output_type": "execute_result"
    }
   ],
   "source": [
    "k[0]"
   ]
  },
  {
   "cell_type": "code",
   "execution_count": 12,
   "id": "4f61e1d6",
   "metadata": {},
   "outputs": [
    {
     "data": {
      "text/plain": [
       "'w'"
      ]
     },
     "execution_count": 12,
     "metadata": {},
     "output_type": "execute_result"
    }
   ],
   "source": [
    "k[11]"
   ]
  },
  {
   "cell_type": "code",
   "execution_count": 17,
   "id": "d8530c04",
   "metadata": {},
   "outputs": [
    {
     "data": {
      "text/plain": [
       "'ave '"
      ]
     },
     "execution_count": 17,
     "metadata": {},
     "output_type": "execute_result"
    }
   ],
   "source": [
    "k[3:7]"
   ]
  },
  {
   "cell_type": "code",
   "execution_count": 10,
   "id": "7e821add",
   "metadata": {},
   "outputs": [
    {
     "data": {
      "text/plain": [
       "12"
      ]
     },
     "execution_count": 10,
     "metadata": {},
     "output_type": "execute_result"
    }
   ],
   "source": [
    "len(k)"
   ]
  },
  {
   "cell_type": "code",
   "execution_count": 9,
   "id": "436a8672",
   "metadata": {},
   "outputs": [
    {
     "data": {
      "text/plain": [
       "'and it is black'"
      ]
     },
     "execution_count": 9,
     "metadata": {},
     "output_type": "execute_result"
    }
   ],
   "source": [
    "p"
   ]
  },
  {
   "cell_type": "markdown",
   "id": "806ec3ce",
   "metadata": {},
   "source": [
    "# Checking Variable Type"
   ]
  },
  {
   "cell_type": "code",
   "execution_count": 24,
   "id": "307be931",
   "metadata": {},
   "outputs": [
    {
     "name": "stdout",
     "output_type": "stream",
     "text": [
      "<class 'int'>\n",
      "<class 'float'>\n",
      "<class 'str'>\n",
      "<class 'str'>\n"
     ]
    }
   ],
   "source": [
    "apple = 10\n",
    "pineapple = 100.89\n",
    "banana = \"10\"\n",
    "s = \"protein is a macromolecule\"\n",
    "\n",
    "\n",
    "print(type(apple))\n",
    "print(type(pineapple))\n",
    "print(type(banana))\n",
    "print(type(s))"
   ]
  },
  {
   "cell_type": "markdown",
   "id": "0a502e85",
   "metadata": {},
   "source": [
    "## Changing Case"
   ]
  },
  {
   "cell_type": "code",
   "execution_count": 35,
   "id": "5514de87",
   "metadata": {},
   "outputs": [
    {
     "name": "stdout",
     "output_type": "stream",
     "text": [
      "PROTEIN IS A MACROMOLECULE\n",
      "Protein is a macromolecule\n",
      "protein is a macromolecule\n"
     ]
    }
   ],
   "source": [
    "s = \"protein is a macromolecule\"\n",
    "\n",
    "\n",
    "s_upper = s.upper()\n",
    "\n",
    "print(s_upper)\n",
    "\n",
    "s_capitalize = s.capitalize()\n",
    "\n",
    "print(s_capitalize )\n",
    "\n",
    "s_lower = s.lower()\n",
    "\n",
    "\n",
    "print(s_lower)"
   ]
  },
  {
   "cell_type": "markdown",
   "id": "b47cfe41",
   "metadata": {},
   "source": [
    "## Replacing"
   ]
  },
  {
   "cell_type": "code",
   "execution_count": 33,
   "id": "920f1429",
   "metadata": {},
   "outputs": [
    {
     "name": "stdout",
     "output_type": "stream",
     "text": [
      "Glucose is a macromolecule\n"
     ]
    }
   ],
   "source": [
    "g = \"Glucose\"\n",
    "\n",
    "x = s.replace(\"protein\",g)\n",
    "\n",
    "print(x)\n"
   ]
  },
  {
   "cell_type": "code",
   "execution_count": 36,
   "id": "2ce277db",
   "metadata": {},
   "outputs": [
    {
     "data": {
      "text/plain": [
       "'se i'"
      ]
     },
     "execution_count": 36,
     "metadata": {},
     "output_type": "execute_result"
    }
   ],
   "source": [
    "x[5:9]"
   ]
  },
  {
   "cell_type": "markdown",
   "id": "17569146",
   "metadata": {},
   "source": [
    "## Spliting"
   ]
  },
  {
   "cell_type": "code",
   "execution_count": 39,
   "id": "233aeca1",
   "metadata": {},
   "outputs": [
    {
     "name": "stdout",
     "output_type": "stream",
     "text": [
      "['Glucose', 'is', 'a', 'macromolecule']\n"
     ]
    }
   ],
   "source": [
    "x\n",
    "\n",
    "x_words = x.split(\" \")\n",
    "\n",
    "print(x_words)"
   ]
  },
  {
   "cell_type": "code",
   "execution_count": null,
   "id": "682e4beb",
   "metadata": {},
   "outputs": [
    {
     "name": "stdout",
     "output_type": "stream",
     "text": [
      "4\n"
     ]
    }
   ],
   "source": [
    "word_connt = len(x_words)\n",
    "\n",
    "print(word_connt)"
   ]
  },
  {
   "cell_type": "code",
   "execution_count": 44,
   "id": "9a6b0904",
   "metadata": {},
   "outputs": [
    {
     "data": {
      "text/plain": [
       "'a'"
      ]
     },
     "execution_count": 44,
     "metadata": {},
     "output_type": "execute_result"
    }
   ],
   "source": [
    "x_words[-2]"
   ]
  },
  {
   "cell_type": "code",
   "execution_count": 42,
   "id": "54d5ba72",
   "metadata": {},
   "outputs": [
    {
     "data": {
      "text/plain": [
       "['Glucose', 'is', 'a']"
      ]
     },
     "execution_count": 42,
     "metadata": {},
     "output_type": "execute_result"
    }
   ],
   "source": [
    "x_words[0:3]"
   ]
  },
  {
   "cell_type": "code",
   "execution_count": 47,
   "id": "f0abd2dd",
   "metadata": {},
   "outputs": [
    {
     "name": "stdout",
     "output_type": "stream",
     "text": [
      "1\n"
     ]
    }
   ],
   "source": [
    "x\n",
    "\n",
    "x_fun = x.split(\"i\")\n",
    "\n",
    "print(len(x_fun)-1)"
   ]
  },
  {
   "cell_type": "code",
   "execution_count": 96,
   "id": "5c8d7633",
   "metadata": {},
   "outputs": [
    {
     "name": "stdout",
     "output_type": "stream",
     "text": [
      " They are often found in groups called herds, and farmers provide them with food, water, and shelter\n"
     ]
    }
   ],
   "source": [
    "cow = \"Cows are large, gentle farm animals known for providing milk, a vital source of food for humans. These herbivorous creatures are herbivores, meaning they primarily consume plants like grass and grains. Cows are valued not only for their milk, but also for their meat and leather. They are often found in groups called herds, and farmers provide them with food, water, and shelter.\"\n",
    "\n",
    "print(cow.split(\".\")[-2])\n"
   ]
  },
  {
   "cell_type": "markdown",
   "id": "66557873",
   "metadata": {},
   "source": [
    "## string insertion"
   ]
  },
  {
   "cell_type": "markdown",
   "id": "b64c052b",
   "metadata": {},
   "source": [
    "<font color='#DFFF00' size = 6 face='New Times Romans'>\"<b>Cows</b> are large, gentle farm <i>animals</i> known for providing milk,</font><br> a vital source of food for humans.<br> These herbivorous creatures are herbivores, meaning they primarily consume plants like grass and grains. Cows are valued not only for their milk, but also for their meat and leather. They are often found in groups called herds, and farmers provide them with food, water, and shelter.\""
   ]
  },
  {
   "cell_type": "markdown",
   "id": "6b39e1df",
   "metadata": {},
   "source": [
    "![alt text](download.jpg)"
   ]
  },
  {
   "cell_type": "code",
   "execution_count": 91,
   "id": "0a66ba1a",
   "metadata": {},
   "outputs": [
    {
     "data": {
      "text/plain": [
       "'Cows are large, gentle farm animals known for providing milk, a crucial thing, a vital source of food for humans'"
      ]
     },
     "execution_count": 91,
     "metadata": {},
     "output_type": "execute_result"
    }
   ],
   "source": [
    "cow = \"Cows are large, gentle farm animals known for providing milk, a vital source of food for humans.\"\n",
    "\n",
    "new_strin=\" a crucial thing,\"\n",
    "\n",
    "\n",
    "new_cow = cow[0:61] +new_strin+ cow[61:95]\n",
    "\n",
    "\n",
    "new_cow"
   ]
  },
  {
   "cell_type": "code",
   "execution_count": 90,
   "id": "df979e1b",
   "metadata": {},
   "outputs": [
    {
     "data": {
      "text/plain": [
       "96"
      ]
     },
     "execution_count": 90,
     "metadata": {},
     "output_type": "execute_result"
    }
   ],
   "source": [
    "len(cow)"
   ]
  },
  {
   "cell_type": "code",
   "execution_count": null,
   "id": "06168e55",
   "metadata": {},
   "outputs": [
    {
     "name": "stdout",
     "output_type": "stream",
     "text": [
      "cow\n"
     ]
    }
   ],
   "source": [
    "m = \"cow\"\n",
    "\n",
    "len(m)\n",
    "\n",
    "print(m[0:3])"
   ]
  },
  {
   "cell_type": "code",
   "execution_count": 88,
   "id": "30358ac7",
   "metadata": {},
   "outputs": [
    {
     "data": {
      "text/plain": [
       "96"
      ]
     },
     "execution_count": 88,
     "metadata": {},
     "output_type": "execute_result"
    }
   ],
   "source": [
    "len(cow)"
   ]
  },
  {
   "cell_type": "markdown",
   "id": "25d4c039",
   "metadata": {},
   "source": [
    "# LIST/Array"
   ]
  },
  {
   "cell_type": "code",
   "execution_count": null,
   "id": "f0c23feb",
   "metadata": {},
   "outputs": [
    {
     "name": "stdout",
     "output_type": "stream",
     "text": [
      "94\n",
      "3460\n"
     ]
    }
   ],
   "source": [
    "l = ['Glucose', 'is', 'a', 'macromolecule']\n",
    "\n",
    "num_list_str = ['34','-9','4','60','10']\n",
    "\n",
    "num_list = [34, -9, 4, 60, 10]\n",
    "\n",
    "print(num_list[0] + num_list[3])\n",
    "\n",
    "\n",
    "print(num_list_str[0] + num_list_str[3])"
   ]
  },
  {
   "cell_type": "code",
   "execution_count": null,
   "id": "45ffe8f1",
   "metadata": {},
   "outputs": [
    {
     "name": "stdout",
     "output_type": "stream",
     "text": [
      "ben10\n",
      "ben10\n"
     ]
    }
   ],
   "source": [
    "mix_list = [4,6,'iko','ben',10]\n",
    "\n",
    "print(mix_list[-2]+str(mix_list[-1]))\n",
    "\n",
    "print(mix_list[3]+str(mix_list[4]))"
   ]
  },
  {
   "cell_type": "markdown",
   "id": "393821fc",
   "metadata": {},
   "source": [
    "## Adding/Inserting data in a List"
   ]
  },
  {
   "cell_type": "code",
   "execution_count": null,
   "id": "7b03724c",
   "metadata": {},
   "outputs": [
    {
     "name": "stdout",
     "output_type": "stream",
     "text": [
      "['Glucose', 'is', 'a', 'macromolecule', 'large']\n",
      "['34', '-9', '4', '60', '10', '100']\n",
      "[34, -9, 4, 60, 10, 10010]\n"
     ]
    }
   ],
   "source": [
    "l = ['Glucose', 'is', 'a', 'macromolecule']\n",
    "\n",
    "num_list_str = ['34','-9','4','60','10']\n",
    "\n",
    "num_list = [34, -9, 4, 60, 10]\n",
    "\n",
    "\n",
    "l.append(\"large\")\n",
    "\n",
    "num_list_str.append(\"100\")\n",
    "\n",
    "num_list.append(10010)\n",
    "\n",
    "\n",
    "print(l)\n",
    "print(num_list_str)\n",
    "print(num_list)"
   ]
  },
  {
   "cell_type": "code",
   "execution_count": 76,
   "id": "93406f76",
   "metadata": {},
   "outputs": [
    {
     "name": "stdout",
     "output_type": "stream",
     "text": [
      "['Glucose', 'is', 'a', 'large', 'macromolecule']\n"
     ]
    }
   ],
   "source": [
    "l = ['Glucose', 'is', 'a', 'macromolecule']\n",
    "\n",
    "\n",
    "l.insert(3,'large')\n",
    "\n",
    "\n",
    "print(l)"
   ]
  },
  {
   "cell_type": "markdown",
   "id": "4255f09c",
   "metadata": {},
   "source": [
    "## Add two or more list"
   ]
  },
  {
   "cell_type": "code",
   "execution_count": 77,
   "id": "b61aacd4",
   "metadata": {},
   "outputs": [
    {
     "name": "stdout",
     "output_type": "stream",
     "text": [
      "['Glucose', 'is', 'a', 'large', 'macromolecule', '34', '-9', '4', '60', '10', '100']\n"
     ]
    }
   ],
   "source": [
    "new_list = l+num_list_str\n",
    "\n",
    "print(new_list)"
   ]
  },
  {
   "cell_type": "markdown",
   "id": "dbbc9ecf",
   "metadata": {},
   "source": [
    "# Reading Data from text file"
   ]
  },
  {
   "cell_type": "code",
   "execution_count": null,
   "id": "27e021da",
   "metadata": {},
   "outputs": [],
   "source": [
    "data_file_path = r\"c:\\Users\\RAZER\\Desktop\\normal.txt\"\n",
    "\n",
    "ubuntu_formate = \"C:/Users/RAZER/Desktop/normal.txt\"\n",
    "\n",
    "with open(data_file_path, \"r\") as file:\n",
    "    text_data = file.read()\n",
    "    \n",
    "    \n",
    "print(text_data)"
   ]
  },
  {
   "cell_type": "markdown",
   "id": "e0ebd125",
   "metadata": {},
   "source": [
    "# Dictionary"
   ]
  },
  {
   "cell_type": "code",
   "execution_count": 28,
   "id": "8a9cde51",
   "metadata": {},
   "outputs": [
    {
     "name": "stdout",
     "output_type": "stream",
     "text": [
      "['Glucose', 'kl', 'ben10', 'quesn']\n",
      "Glucose\n",
      "100\n",
      "['Glucose', 'is', 'a', 'macromolecule']\n",
      "dict_keys(['s', 'h', 'a', 'l', 'full_list'])\n"
     ]
    },
    {
     "data": {
      "text/plain": [
       "dict_values([['Glucose', 'kl', 'ben10', 'quesn'], 'is', 'a', 100, ['Glucose', 'is', 'a', 'macromolecule']])"
      ]
     },
     "execution_count": 28,
     "metadata": {},
     "output_type": "execute_result"
    }
   ],
   "source": [
    "l = ['Glucose', 'is', 'a', 'macromolecule']\n",
    "\n",
    "\n",
    "\n",
    "dict_l = {'s' : ['Glucose','kl','ben10','quesn'] , \n",
    "        'h' : 'is', \n",
    "        'a':'a', \n",
    "        'l': 100,\n",
    "        'full_list':l }\n",
    "\n",
    "\n",
    "\n",
    "print(dict_l['s'])\n",
    "print(dict_l['s'][0])\n",
    "print(dict_l['l'])\n",
    "print(dict_l['full_list'])\n",
    "print(dict_l.keys())\n",
    "dict_l.values()"
   ]
  },
  {
   "cell_type": "markdown",
   "id": "7022ef8c",
   "metadata": {},
   "source": [
    "# Tupples"
   ]
  },
  {
   "cell_type": "code",
   "execution_count": 29,
   "id": "524a0d78",
   "metadata": {},
   "outputs": [
    {
     "name": "stdout",
     "output_type": "stream",
     "text": [
      "4\n"
     ]
    }
   ],
   "source": [
    "t = (4,6,7,7)\n",
    "\n",
    "print(t[0])"
   ]
  },
  {
   "cell_type": "markdown",
   "id": "4787c853",
   "metadata": {},
   "source": [
    "# 2d List"
   ]
  },
  {
   "cell_type": "code",
   "execution_count": 32,
   "id": "1b93257a",
   "metadata": {},
   "outputs": [
    {
     "name": "stdout",
     "output_type": "stream",
     "text": [
      "[1, 2, 3, 4]\n",
      "[13, 14, 15, 16]\n",
      "15\n"
     ]
    }
   ],
   "source": [
    "# 4 x 4\n",
    "\n",
    "img = [\n",
    "        [1,2, 3, 4],\n",
    "        [5, 6, 7, 8],\n",
    "        [9, 10, 11, 12],\n",
    "        [13, 14, 15, 16]]\n",
    "\n",
    "print(img[0])\n",
    "print(img[-1])\n",
    "print(img[-1][2])"
   ]
  },
  {
   "cell_type": "markdown",
   "id": "17d55666",
   "metadata": {},
   "source": [
    "# <font color = red>Condition</font>\n",
    "\n",
    "\n",
    "<font color='coral'>Caution:</font> Indentation must be applied in `if-else` in python."
   ]
  },
  {
   "cell_type": "markdown",
   "id": "35eef6da",
   "metadata": {},
   "source": [
    "if (condition): <br>\n",
    "________[block of code]                  <- for true condition<br>\n",
    "else:<br>\n",
    "________[block of code]                  <- for false condition<br>"
   ]
  },
  {
   "cell_type": "code",
   "execution_count": 36,
   "id": "9d99dba7",
   "metadata": {},
   "outputs": [
    {
     "name": "stdout",
     "output_type": "stream",
     "text": [
      "I wont take the um\n"
     ]
    }
   ],
   "source": [
    "rain = input()\n",
    "\n",
    "if rain == 'yes':\n",
    "    print(\"I will take the um\")\n",
    "    print(\"I will take the um\")\n",
    "    print(\"I will take the um\")\n",
    "    print(\"I will take the um\")\n",
    "    print(\"I will take the um\")\n",
    "else:\n",
    "    print(\"I wont take the um\")"
   ]
  },
  {
   "cell_type": "code",
   "execution_count": null,
   "id": "e025c6ed",
   "metadata": {},
   "outputs": [
    {
     "name": "stdout",
     "output_type": "stream",
     "text": [
      "9 is equal to 9\n"
     ]
    }
   ],
   "source": [
    "a = 9\n",
    "b = 9\n",
    "\n",
    "if a>b:\n",
    "    print(a, \"is greater then\", b)\n",
    "    \n",
    "elif a==b:\n",
    "    print(a, \"is equal to\",b)\n",
    "    \n",
    "else:\n",
    "    print(b, \"is greater then\", a)"
   ]
  },
  {
   "cell_type": "markdown",
   "id": "9a54fb14",
   "metadata": {},
   "source": [
    "## Finding Reminder in python"
   ]
  },
  {
   "cell_type": "code",
   "execution_count": 38,
   "id": "0279e4b9",
   "metadata": {},
   "outputs": [
    {
     "name": "stdout",
     "output_type": "stream",
     "text": [
      "9.0\n",
      "0\n",
      "4.5\n",
      "3\n"
     ]
    }
   ],
   "source": [
    "a = 27\n",
    "b = 3\n",
    "c = 6\n",
    "\n",
    "print(a/b)\n",
    "print(a%b)\n",
    "\n",
    "\n",
    "print(a/c)\n",
    "print(a%c)"
   ]
  },
  {
   "cell_type": "code",
   "execution_count": null,
   "id": "e5a2bd7e",
   "metadata": {},
   "outputs": [
    {
     "data": {
      "text/plain": [
       "type"
      ]
     },
     "execution_count": 43,
     "metadata": {},
     "output_type": "execute_result"
    }
   ],
   "source": []
  },
  {
   "cell_type": "markdown",
   "id": "ba34ee9f",
   "metadata": {},
   "source": [
    "# Nested If"
   ]
  },
  {
   "cell_type": "code",
   "execution_count": 47,
   "id": "ba3fc663",
   "metadata": {},
   "outputs": [
    {
     "name": "stdout",
     "output_type": "stream",
     "text": [
      "Print something\n"
     ]
    }
   ],
   "source": [
    "a = 3\n",
    "b = 5\n",
    "c = 9\n",
    "\n",
    "if a > b:\n",
    "    if a>c:\n",
    "        print(a, \"is the greatest.\")\n",
    "else:\n",
    "    print(\"Print something\")\n",
    "\n",
    "if a > b and a>c:\n",
    "        print(a, \"is the greatest.\")"
   ]
  },
  {
   "cell_type": "markdown",
   "id": "6e830993",
   "metadata": {},
   "source": [
    "# LOOP In Python"
   ]
  },
  {
   "cell_type": "code",
   "execution_count": 6,
   "id": "2838ccbe",
   "metadata": {},
   "outputs": [],
   "source": [
    "\n",
    "hidden_var = 14132\n"
   ]
  },
  {
   "cell_type": "code",
   "execution_count": 9,
   "id": "d71c0425",
   "metadata": {},
   "outputs": [
    {
     "name": "stdout",
     "output_type": "stream",
     "text": [
      "1\n",
      "Hello World\n",
      "2\n",
      "Hello World\n",
      "3\n",
      "Hello World\n",
      "4\n",
      "Hello World\n",
      "5\n",
      "Hello World\n",
      "6\n",
      "Hello World\n",
      "7\n",
      "Hello World\n",
      "8\n",
      "Hello World\n",
      "9\n",
      "Hello World\n",
      "10\n",
      "Hello World\n"
     ]
    }
   ],
   "source": [
    "\n",
    "\n",
    "\n",
    "for i in range(1,11):\n",
    "    print(i)\n",
    "    print(\"Hello World\")\n"
   ]
  },
  {
   "cell_type": "code",
   "execution_count": 11,
   "id": "492f9b57",
   "metadata": {},
   "outputs": [
    {
     "name": "stdout",
     "output_type": "stream",
     "text": [
      "ben10\n",
      "superman\n",
      "batman\n",
      "ironman\n"
     ]
    }
   ],
   "source": [
    "l = ['ben10','superman','batman',\"ironman\"]\n",
    "\n",
    "\n",
    "for value in l:\n",
    "    print(value)"
   ]
  },
  {
   "cell_type": "markdown",
   "id": "8dc44430",
   "metadata": {},
   "source": [
    "## Series\n"
   ]
  },
  {
   "cell_type": "markdown",
   "id": "ef642336",
   "metadata": {},
   "source": [
    "1X2X3X4X,,,,,,,,,,,Xn = ?"
   ]
  },
  {
   "cell_type": "code",
   "execution_count": null,
   "id": "57a60b68",
   "metadata": {},
   "outputs": [],
   "source": [
    "n = int(input)\n",
    "\n",
    "sum = 0\n",
    "\n",
    "for i in range(1,n+1):\n",
    "    print(\"LOOP -\", i)\n",
    "    print(\"Current Sum\", sum)\n",
    "    print(\"Current i\",i)\n",
    "    sum = sum + i\n",
    "    print(\"Total Sum\",sum)\n",
    "    print('_____________________________________________________')\n",
    "    \n",
    "print(sum)"
   ]
  },
  {
   "cell_type": "markdown",
   "id": "51b2c412",
   "metadata": {},
   "source": [
    "1+2+3+4+,,,,,,,,,,,+100 = ?"
   ]
  },
  {
   "cell_type": "code",
   "execution_count": null,
   "id": "456231ed",
   "metadata": {},
   "outputs": [
    {
     "name": "stdout",
     "output_type": "stream",
     "text": [
      "LOOP - 1\n",
      "Current Sum 0\n",
      "Current i 1\n",
      "Total Sum 1\n",
      "_____________________________________________________\n",
      "LOOP - 2\n",
      "Current Sum 1\n",
      "Current i 2\n",
      "Total Sum 3\n",
      "_____________________________________________________\n",
      "LOOP - 3\n",
      "Current Sum 3\n",
      "Current i 3\n",
      "Total Sum 6\n",
      "_____________________________________________________\n",
      "LOOP - 4\n",
      "Current Sum 6\n",
      "Current i 4\n",
      "Total Sum 10\n",
      "_____________________________________________________\n",
      "LOOP - 5\n",
      "Current Sum 10\n",
      "Current i 5\n",
      "Total Sum 15\n",
      "_____________________________________________________\n",
      "LOOP - 6\n",
      "Current Sum 15\n",
      "Current i 6\n",
      "Total Sum 21\n",
      "_____________________________________________________\n",
      "LOOP - 7\n",
      "Current Sum 21\n",
      "Current i 7\n",
      "Total Sum 28\n",
      "_____________________________________________________\n",
      "LOOP - 8\n",
      "Current Sum 28\n",
      "Current i 8\n",
      "Total Sum 36\n",
      "_____________________________________________________\n",
      "LOOP - 9\n",
      "Current Sum 36\n",
      "Current i 9\n",
      "Total Sum 45\n",
      "_____________________________________________________\n",
      "LOOP - 10\n",
      "Current Sum 45\n",
      "Current i 10\n",
      "Total Sum 55\n",
      "_____________________________________________________\n",
      "LOOP - 11\n",
      "Current Sum 55\n",
      "Current i 11\n",
      "Total Sum 66\n",
      "_____________________________________________________\n",
      "LOOP - 12\n",
      "Current Sum 66\n",
      "Current i 12\n",
      "Total Sum 78\n",
      "_____________________________________________________\n",
      "LOOP - 13\n",
      "Current Sum 78\n",
      "Current i 13\n",
      "Total Sum 91\n",
      "_____________________________________________________\n",
      "LOOP - 14\n",
      "Current Sum 91\n",
      "Current i 14\n",
      "Total Sum 105\n",
      "_____________________________________________________\n",
      "LOOP - 15\n",
      "Current Sum 105\n",
      "Current i 15\n",
      "Total Sum 120\n",
      "_____________________________________________________\n",
      "LOOP - 16\n",
      "Current Sum 120\n",
      "Current i 16\n",
      "Total Sum 136\n",
      "_____________________________________________________\n",
      "LOOP - 17\n",
      "Current Sum 136\n",
      "Current i 17\n",
      "Total Sum 153\n",
      "_____________________________________________________\n",
      "LOOP - 18\n",
      "Current Sum 153\n",
      "Current i 18\n",
      "Total Sum 171\n",
      "_____________________________________________________\n",
      "LOOP - 19\n",
      "Current Sum 171\n",
      "Current i 19\n",
      "Total Sum 190\n",
      "_____________________________________________________\n",
      "LOOP - 20\n",
      "Current Sum 190\n",
      "Current i 20\n",
      "Total Sum 210\n",
      "_____________________________________________________\n",
      "LOOP - 21\n",
      "Current Sum 210\n",
      "Current i 21\n",
      "Total Sum 231\n",
      "_____________________________________________________\n",
      "LOOP - 22\n",
      "Current Sum 231\n",
      "Current i 22\n",
      "Total Sum 253\n",
      "_____________________________________________________\n",
      "LOOP - 23\n",
      "Current Sum 253\n",
      "Current i 23\n",
      "Total Sum 276\n",
      "_____________________________________________________\n",
      "LOOP - 24\n",
      "Current Sum 276\n",
      "Current i 24\n",
      "Total Sum 300\n",
      "_____________________________________________________\n",
      "LOOP - 25\n",
      "Current Sum 300\n",
      "Current i 25\n",
      "Total Sum 325\n",
      "_____________________________________________________\n",
      "LOOP - 26\n",
      "Current Sum 325\n",
      "Current i 26\n",
      "Total Sum 351\n",
      "_____________________________________________________\n",
      "LOOP - 27\n",
      "Current Sum 351\n",
      "Current i 27\n",
      "Total Sum 378\n",
      "_____________________________________________________\n",
      "LOOP - 28\n",
      "Current Sum 378\n",
      "Current i 28\n",
      "Total Sum 406\n",
      "_____________________________________________________\n",
      "LOOP - 29\n",
      "Current Sum 406\n",
      "Current i 29\n",
      "Total Sum 435\n",
      "_____________________________________________________\n",
      "LOOP - 30\n",
      "Current Sum 435\n",
      "Current i 30\n",
      "Total Sum 465\n",
      "_____________________________________________________\n",
      "LOOP - 31\n",
      "Current Sum 465\n",
      "Current i 31\n",
      "Total Sum 496\n",
      "_____________________________________________________\n",
      "LOOP - 32\n",
      "Current Sum 496\n",
      "Current i 32\n",
      "Total Sum 528\n",
      "_____________________________________________________\n",
      "LOOP - 33\n",
      "Current Sum 528\n",
      "Current i 33\n",
      "Total Sum 561\n",
      "_____________________________________________________\n",
      "LOOP - 34\n",
      "Current Sum 561\n",
      "Current i 34\n",
      "Total Sum 595\n",
      "_____________________________________________________\n",
      "LOOP - 35\n",
      "Current Sum 595\n",
      "Current i 35\n",
      "Total Sum 630\n",
      "_____________________________________________________\n",
      "LOOP - 36\n",
      "Current Sum 630\n",
      "Current i 36\n",
      "Total Sum 666\n",
      "_____________________________________________________\n",
      "LOOP - 37\n",
      "Current Sum 666\n",
      "Current i 37\n",
      "Total Sum 703\n",
      "_____________________________________________________\n",
      "LOOP - 38\n",
      "Current Sum 703\n",
      "Current i 38\n",
      "Total Sum 741\n",
      "_____________________________________________________\n",
      "LOOP - 39\n",
      "Current Sum 741\n",
      "Current i 39\n",
      "Total Sum 780\n",
      "_____________________________________________________\n",
      "LOOP - 40\n",
      "Current Sum 780\n",
      "Current i 40\n",
      "Total Sum 820\n",
      "_____________________________________________________\n",
      "LOOP - 41\n",
      "Current Sum 820\n",
      "Current i 41\n",
      "Total Sum 861\n",
      "_____________________________________________________\n",
      "LOOP - 42\n",
      "Current Sum 861\n",
      "Current i 42\n",
      "Total Sum 903\n",
      "_____________________________________________________\n",
      "LOOP - 43\n",
      "Current Sum 903\n",
      "Current i 43\n",
      "Total Sum 946\n",
      "_____________________________________________________\n",
      "LOOP - 44\n",
      "Current Sum 946\n",
      "Current i 44\n",
      "Total Sum 990\n",
      "_____________________________________________________\n",
      "LOOP - 45\n",
      "Current Sum 990\n",
      "Current i 45\n",
      "Total Sum 1035\n",
      "_____________________________________________________\n",
      "LOOP - 46\n",
      "Current Sum 1035\n",
      "Current i 46\n",
      "Total Sum 1081\n",
      "_____________________________________________________\n",
      "LOOP - 47\n",
      "Current Sum 1081\n",
      "Current i 47\n",
      "Total Sum 1128\n",
      "_____________________________________________________\n",
      "LOOP - 48\n",
      "Current Sum 1128\n",
      "Current i 48\n",
      "Total Sum 1176\n",
      "_____________________________________________________\n",
      "LOOP - 49\n",
      "Current Sum 1176\n",
      "Current i 49\n",
      "Total Sum 1225\n",
      "_____________________________________________________\n",
      "LOOP - 50\n",
      "Current Sum 1225\n",
      "Current i 50\n",
      "Total Sum 1275\n",
      "_____________________________________________________\n",
      "LOOP - 51\n",
      "Current Sum 1275\n",
      "Current i 51\n",
      "Total Sum 1326\n",
      "_____________________________________________________\n",
      "LOOP - 52\n",
      "Current Sum 1326\n",
      "Current i 52\n",
      "Total Sum 1378\n",
      "_____________________________________________________\n",
      "LOOP - 53\n",
      "Current Sum 1378\n",
      "Current i 53\n",
      "Total Sum 1431\n",
      "_____________________________________________________\n",
      "LOOP - 54\n",
      "Current Sum 1431\n",
      "Current i 54\n",
      "Total Sum 1485\n",
      "_____________________________________________________\n",
      "LOOP - 55\n",
      "Current Sum 1485\n",
      "Current i 55\n",
      "Total Sum 1540\n",
      "_____________________________________________________\n",
      "LOOP - 56\n",
      "Current Sum 1540\n",
      "Current i 56\n",
      "Total Sum 1596\n",
      "_____________________________________________________\n",
      "LOOP - 57\n",
      "Current Sum 1596\n",
      "Current i 57\n",
      "Total Sum 1653\n",
      "_____________________________________________________\n",
      "LOOP - 58\n",
      "Current Sum 1653\n",
      "Current i 58\n",
      "Total Sum 1711\n",
      "_____________________________________________________\n",
      "LOOP - 59\n",
      "Current Sum 1711\n",
      "Current i 59\n",
      "Total Sum 1770\n",
      "_____________________________________________________\n",
      "LOOP - 60\n",
      "Current Sum 1770\n",
      "Current i 60\n",
      "Total Sum 1830\n",
      "_____________________________________________________\n",
      "LOOP - 61\n",
      "Current Sum 1830\n",
      "Current i 61\n",
      "Total Sum 1891\n",
      "_____________________________________________________\n",
      "LOOP - 62\n",
      "Current Sum 1891\n",
      "Current i 62\n",
      "Total Sum 1953\n",
      "_____________________________________________________\n",
      "LOOP - 63\n",
      "Current Sum 1953\n",
      "Current i 63\n",
      "Total Sum 2016\n",
      "_____________________________________________________\n",
      "LOOP - 64\n",
      "Current Sum 2016\n",
      "Current i 64\n",
      "Total Sum 2080\n",
      "_____________________________________________________\n",
      "LOOP - 65\n",
      "Current Sum 2080\n",
      "Current i 65\n",
      "Total Sum 2145\n",
      "_____________________________________________________\n",
      "LOOP - 66\n",
      "Current Sum 2145\n",
      "Current i 66\n",
      "Total Sum 2211\n",
      "_____________________________________________________\n",
      "LOOP - 67\n",
      "Current Sum 2211\n",
      "Current i 67\n",
      "Total Sum 2278\n",
      "_____________________________________________________\n",
      "LOOP - 68\n",
      "Current Sum 2278\n",
      "Current i 68\n",
      "Total Sum 2346\n",
      "_____________________________________________________\n",
      "LOOP - 69\n",
      "Current Sum 2346\n",
      "Current i 69\n",
      "Total Sum 2415\n",
      "_____________________________________________________\n",
      "LOOP - 70\n",
      "Current Sum 2415\n",
      "Current i 70\n",
      "Total Sum 2485\n",
      "_____________________________________________________\n",
      "LOOP - 71\n",
      "Current Sum 2485\n",
      "Current i 71\n",
      "Total Sum 2556\n",
      "_____________________________________________________\n",
      "LOOP - 72\n",
      "Current Sum 2556\n",
      "Current i 72\n",
      "Total Sum 2628\n",
      "_____________________________________________________\n",
      "LOOP - 73\n",
      "Current Sum 2628\n",
      "Current i 73\n",
      "Total Sum 2701\n",
      "_____________________________________________________\n",
      "LOOP - 74\n",
      "Current Sum 2701\n",
      "Current i 74\n",
      "Total Sum 2775\n",
      "_____________________________________________________\n",
      "LOOP - 75\n",
      "Current Sum 2775\n",
      "Current i 75\n",
      "Total Sum 2850\n",
      "_____________________________________________________\n",
      "LOOP - 76\n",
      "Current Sum 2850\n",
      "Current i 76\n",
      "Total Sum 2926\n",
      "_____________________________________________________\n",
      "LOOP - 77\n",
      "Current Sum 2926\n",
      "Current i 77\n",
      "Total Sum 3003\n",
      "_____________________________________________________\n",
      "LOOP - 78\n",
      "Current Sum 3003\n",
      "Current i 78\n",
      "Total Sum 3081\n",
      "_____________________________________________________\n",
      "LOOP - 79\n",
      "Current Sum 3081\n",
      "Current i 79\n",
      "Total Sum 3160\n",
      "_____________________________________________________\n",
      "LOOP - 80\n",
      "Current Sum 3160\n",
      "Current i 80\n",
      "Total Sum 3240\n",
      "_____________________________________________________\n",
      "LOOP - 81\n",
      "Current Sum 3240\n",
      "Current i 81\n",
      "Total Sum 3321\n",
      "_____________________________________________________\n",
      "LOOP - 82\n",
      "Current Sum 3321\n",
      "Current i 82\n",
      "Total Sum 3403\n",
      "_____________________________________________________\n",
      "LOOP - 83\n",
      "Current Sum 3403\n",
      "Current i 83\n",
      "Total Sum 3486\n",
      "_____________________________________________________\n",
      "LOOP - 84\n",
      "Current Sum 3486\n",
      "Current i 84\n",
      "Total Sum 3570\n",
      "_____________________________________________________\n",
      "LOOP - 85\n",
      "Current Sum 3570\n",
      "Current i 85\n",
      "Total Sum 3655\n",
      "_____________________________________________________\n",
      "LOOP - 86\n",
      "Current Sum 3655\n",
      "Current i 86\n",
      "Total Sum 3741\n",
      "_____________________________________________________\n",
      "LOOP - 87\n",
      "Current Sum 3741\n",
      "Current i 87\n",
      "Total Sum 3828\n",
      "_____________________________________________________\n",
      "LOOP - 88\n",
      "Current Sum 3828\n",
      "Current i 88\n",
      "Total Sum 3916\n",
      "_____________________________________________________\n",
      "LOOP - 89\n",
      "Current Sum 3916\n",
      "Current i 89\n",
      "Total Sum 4005\n",
      "_____________________________________________________\n",
      "LOOP - 90\n",
      "Current Sum 4005\n",
      "Current i 90\n",
      "Total Sum 4095\n",
      "_____________________________________________________\n",
      "LOOP - 91\n",
      "Current Sum 4095\n",
      "Current i 91\n",
      "Total Sum 4186\n",
      "_____________________________________________________\n",
      "LOOP - 92\n",
      "Current Sum 4186\n",
      "Current i 92\n",
      "Total Sum 4278\n",
      "_____________________________________________________\n",
      "LOOP - 93\n",
      "Current Sum 4278\n",
      "Current i 93\n",
      "Total Sum 4371\n",
      "_____________________________________________________\n",
      "LOOP - 94\n",
      "Current Sum 4371\n",
      "Current i 94\n",
      "Total Sum 4465\n",
      "_____________________________________________________\n",
      "LOOP - 95\n",
      "Current Sum 4465\n",
      "Current i 95\n",
      "Total Sum 4560\n",
      "_____________________________________________________\n",
      "LOOP - 96\n",
      "Current Sum 4560\n",
      "Current i 96\n",
      "Total Sum 4656\n",
      "_____________________________________________________\n",
      "LOOP - 97\n",
      "Current Sum 4656\n",
      "Current i 97\n",
      "Total Sum 4753\n",
      "_____________________________________________________\n",
      "LOOP - 98\n",
      "Current Sum 4753\n",
      "Current i 98\n",
      "Total Sum 4851\n",
      "_____________________________________________________\n",
      "LOOP - 99\n",
      "Current Sum 4851\n",
      "Current i 99\n",
      "Total Sum 4950\n",
      "_____________________________________________________\n",
      "LOOP - 100\n",
      "Current Sum 4950\n",
      "Current i 100\n",
      "Total Sum 5050\n",
      "_____________________________________________________\n",
      "5050\n"
     ]
    }
   ],
   "source": [
    "sum = 0\n",
    "\n",
    "for i in range(1,101):\n",
    "    print(\"LOOP -\", i)\n",
    "    print(\"Current Sum\", sum)\n",
    "    print(\"Current i\",i)\n",
    "    sum = sum + i\n",
    "    print(\"Total Sum\",sum)\n",
    "    print('_____________________________________________________')\n",
    "    \n",
    "print(sum)"
   ]
  },
  {
   "cell_type": "markdown",
   "id": "786df8c3",
   "metadata": {},
   "source": [
    "1+5+10+15+,,,,,,,,,,,,,,,+n = ?"
   ]
  },
  {
   "cell_type": "markdown",
   "id": "af68760c",
   "metadata": {},
   "source": [
    "for i range(starting_point, ending_point+1, increament):"
   ]
  },
  {
   "cell_type": "code",
   "execution_count": 25,
   "id": "95fd0f49",
   "metadata": {},
   "outputs": [
    {
     "name": "stdout",
     "output_type": "stream",
     "text": [
      "0\n",
      "5\n",
      "10\n",
      "15\n",
      "20\n",
      "25\n",
      "30\n",
      "35\n",
      "40\n",
      "45\n",
      "50\n",
      "55\n",
      "60\n",
      "65\n",
      "70\n",
      "75\n",
      "80\n",
      "85\n",
      "90\n",
      "95\n",
      "100\n"
     ]
    }
   ],
   "source": [
    "\n",
    "\n",
    "\n",
    "for i in range(0,100+1,5):\n",
    "    print(i)"
   ]
  },
  {
   "cell_type": "markdown",
   "id": "8a7a31b8",
   "metadata": {},
   "source": [
    "1<sup>2</sup>+3<sup>2</sup>+5<sup>2</sup>+7<sup>2</sup>+............+n<sup>2</sup>"
   ]
  },
  {
   "cell_type": "code",
   "execution_count": 18,
   "id": "ebec786c",
   "metadata": {},
   "outputs": [
    {
     "name": "stdout",
     "output_type": "stream",
     "text": [
      "Value of i= 1\n",
      "Value of i^2= 1\n",
      "____________________________\n",
      "Value of i= 3\n",
      "Value of i^2= 9\n",
      "____________________________\n",
      "Value of i= 5\n",
      "Value of i^2= 25\n",
      "____________________________\n",
      "Value of i= 7\n",
      "Value of i^2= 49\n",
      "____________________________\n",
      "Value of i= 9\n",
      "Value of i^2= 81\n",
      "____________________________\n",
      "165\n"
     ]
    }
   ],
   "source": [
    "n = 10\n",
    "\n",
    "\n",
    "sum = 0\n",
    "\n",
    "for i in range(1,n+1,2):\n",
    "    print(\"Value of i=\", i)\n",
    "    print(\"Value of i^2=\",pow(i,2))\n",
    "    sum = sum+pow(i,2)\n",
    "    print(\"____________________________\")\n",
    "\n",
    "print(sum)"
   ]
  },
  {
   "cell_type": "code",
   "execution_count": null,
   "id": "9e46629f",
   "metadata": {},
   "outputs": [],
   "source": []
  }
 ],
 "metadata": {
  "kernelspec": {
   "display_name": "sha",
   "language": "python",
   "name": "python3"
  },
  "language_info": {
   "codemirror_mode": {
    "name": "ipython",
    "version": 3
   },
   "file_extension": ".py",
   "mimetype": "text/x-python",
   "name": "python",
   "nbconvert_exporter": "python",
   "pygments_lexer": "ipython3",
   "version": "3.10.16"
  }
 },
 "nbformat": 4,
 "nbformat_minor": 5
}
